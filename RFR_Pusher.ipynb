{
 "cells": [
  {
   "cell_type": "code",
   "execution_count": 3,
   "id": "ab475972",
   "metadata": {},
   "outputs": [],
   "source": [
    "import pickle\n",
    "\n",
    "with open('RandomForestRegressor','rb') as f:\n",
    "    RFR=pickle.load(f)\n",
    "f.close()\n",
    "with open('/Users/matthewkwee/Metis/engineering/RandomForestRegressor','wb') as f:\n",
    "    pickle.dump(RFR,f)\n",
    "f.close()"
   ]
  }
 ],
 "metadata": {
  "kernelspec": {
   "display_name": "Python [conda env:metis] *",
   "language": "python",
   "name": "conda-env-metis-py"
  },
  "language_info": {
   "codemirror_mode": {
    "name": "ipython",
    "version": 3
   },
   "file_extension": ".py",
   "mimetype": "text/x-python",
   "name": "python",
   "nbconvert_exporter": "python",
   "pygments_lexer": "ipython3",
   "version": "3.8.10"
  }
 },
 "nbformat": 4,
 "nbformat_minor": 5
}
